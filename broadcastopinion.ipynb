{
 "cells": [
  {
   "cell_type": "code",
   "execution_count": 27,
   "metadata": {},
   "outputs": [
    {
     "name": "stderr",
     "output_type": "stream",
     "text": [
      "c:\\users\\hchen\\appdata\\local\\programs\\python\\python36-32\\lib\\site-packages\\ipykernel_launcher.py:10: DeprecationWarning: enable_unaudited_features is deprecated in favor of doing nothing at all\n",
      "  # Remove the CWD from sys.path while we load stuff.\n"
     ]
    },
    {
     "name": "stdout",
     "output_type": "stream",
     "text": [
      "2\n",
      "30000000000000000\n",
      "None\n",
      "None\n",
      "AttributeDict({'blockHash': HexBytes('0xefc0ab49490f1940e4ce5148cb031c1cf136be351f978f674a6642a929cf7feb'), 'blockNumber': 5480108, 'contractAddress': None, 'cumulativeGasUsed': 41421, 'from': '0x042d6e3ac0018098d331093ed6c4ae4c143cc568', 'gasUsed': 41421, 'logs': [], 'logsBloom': HexBytes('0x00000000000000000000000000000000000000000000000000000000000000000000000000000000000000000000000000000000000000000000000000000000000000000000000000000000000000000000000000000000000000000000000000000000000000000000000000000000000000000000000000000000000000000000000000000000000000000000000000000000000000000000000000000000000000000000000000000000000000000000000000000000000000000000000000000000000000000000000000000000000000000000000000000000000000000000000000000000000000000000000000000000000000000000000000000000'), 'status': 1, 'to': '0x0ea14c47be22fed7e7220876998be2249bf5a9e3', 'transactionHash': HexBytes('0xaa7aa3b017ac68cf6c178a14f96985171f2a9a40e71015bc449fd7913e5ab836'), 'transactionIndex': 0})\n"
     ]
    }
   ],
   "source": [
    "#Send Ether to a Contract\n",
    "import time\n",
    "from web3 import Web3, HTTPProvider\n",
    "\n",
    "contract_address     = '0x0ea14c47be22fed7e7220876998be2249bf5a9e3'\n",
    "wallet_private_key   = 'e3557bf7cf16ef32d5fb9040971b6342038e71a71c06b0f477af049e7bf21d72'\n",
    "wallet_address       = '0x042D6E3AC0018098d331093Ed6C4aE4C143CC568'\n",
    "\n",
    "w3 = Web3(HTTPProvider('https://ropsten.infura.io/v3/16fd0fe69c1441b4ba6abc7f50891fcc'))\n",
    "\n",
    "w3.eth.enable_unaudited_features()\n",
    "contract_address = w3.toChecksumAddress(contract_address)\n",
    "wallet_address = w3.toChecksumAddress(wallet_address)\n",
    "\n",
    "def send_ether_to_contract(amount_in_ether):\n",
    "\n",
    "    amount_in_wei = w3.toWei(amount_in_ether,'ether');\n",
    "\n",
    "    nonce = w3.eth.getTransactionCount(wallet_address)\n",
    "    print(nonce)\n",
    "    print(amount_in_wei)\n",
    "\n",
    "    txn_dict = {\n",
    "            'to': contract_address,\n",
    "            'value': amount_in_wei,\n",
    "            'gas': 2000000,\n",
    "            'gasPrice': w3.toWei('40', 'gwei'),\n",
    "            'nonce': nonce,\n",
    "            'chainId': 3\n",
    "    }\n",
    "\n",
    "    signed_txn = w3.eth.account.signTransaction(txn_dict, wallet_private_key)\n",
    "\n",
    "    txn_hash = w3.eth.sendRawTransaction(signed_txn.rawTransaction)\n",
    "\n",
    "    txn_receipt = None\n",
    "    count = 0\n",
    "    while txn_receipt is None and (count < 30):\n",
    "\n",
    "        txn_receipt = w3.eth.getTransactionReceipt(txn_hash)\n",
    "\n",
    "        print(txn_receipt)\n",
    "\n",
    "        time.sleep(10)\n",
    "\n",
    "\n",
    "    if txn_receipt is None:\n",
    "        return {'status': 'failed', 'error': 'timeout'}\n",
    "\n",
    "    return {'status': 'added', 'txn_receipt': txn_receipt}\n",
    "\n",
    "if __name__ == \"__main__\":\n",
    "    send_ether_to_contract(0.03)"
   ]
  },
  {
   "cell_type": "code",
   "execution_count": 32,
   "metadata": {},
   "outputs": [
    {
     "name": "stderr",
     "output_type": "stream",
     "text": [
      "c:\\users\\hchen\\appdata\\local\\programs\\python\\python36-32\\lib\\site-packages\\ipykernel_launcher.py:12: DeprecationWarning: enable_unaudited_features is deprecated in favor of doing nothing at all\n",
      "  if sys.path[0] == '':\n"
     ]
    },
    {
     "name": "stdout",
     "output_type": "stream",
     "text": [
      "True\n"
     ]
    }
   ],
   "source": [
    "#Calling a function in a smart contract\n",
    "import contract_abi\n",
    "import time\n",
    "from web3 import Web3, HTTPProvider\n",
    "\n",
    "contract_address     = '0x0ea14c47be22fed7e7220876998be2249bf5a9e3'\n",
    "wallet_private_key   = 'e3557bf7cf16ef32d5fb9040971b6342038e71a71c06b0f477af049e7bf21d72'\n",
    "wallet_address       = '0x042D6E3AC0018098d331093Ed6C4aE4C143CC568'\n",
    "\n",
    "w3 = Web3(HTTPProvider('https://ropsten.infura.io/v3/16fd0fe69c1441b4ba6abc7f50891fcc'))\n",
    "\n",
    "w3.eth.enable_unaudited_features()\n",
    "contract_address = w3.toChecksumAddress(contract_address)\n",
    "wallet_address = w3.toChecksumAddress(wallet_address)\n",
    "\n",
    "contract = w3.eth.contract(address = contract_address, abi = contract_abi.abi)\n",
    "\n",
    "def check_whether_address_is_approved(address):\n",
    "    return contract.functions.isApproved(address).call()\n",
    "\n",
    "if __name__ == \"__main__\":\n",
    "    is_approved = check_whether_address_is_approved(wallet_address)\n",
    "    print(is_approved)\n"
   ]
  },
  {
   "cell_type": "code",
   "execution_count": 33,
   "metadata": {},
   "outputs": [
    {
     "name": "stderr",
     "output_type": "stream",
     "text": [
      "c:\\users\\hchen\\appdata\\local\\programs\\python\\python36-32\\lib\\site-packages\\ipykernel_launcher.py:12: DeprecationWarning: enable_unaudited_features is deprecated in favor of doing nothing at all\n",
      "  if sys.path[0] == '':\n"
     ]
    },
    {
     "name": "stdout",
     "output_type": "stream",
     "text": [
      "AttributeDict({'blockHash': HexBytes('0x7f67d490d312ec05c06fa8b9acefc2204834f1035226229d930fade8c53a1b77'), 'blockNumber': 5480534, 'contractAddress': None, 'cumulativeGasUsed': 93004, 'from': '0x042d6e3ac0018098d331093ed6c4ae4c143cc568', 'gasUsed': 47263, 'logs': [AttributeDict({'address': '0x0EA14C47Be22fEd7e7220876998BE2249Bf5a9e3', 'blockHash': HexBytes('0x7f67d490d312ec05c06fa8b9acefc2204834f1035226229d930fade8c53a1b77'), 'blockNumber': 5480534, 'data': '0x000000000000000000000000042d6e3ac0018098d331093ed6c4ae4c143cc5680000000000000000000000000000000000000000000000000000000000000040000000000000000000000000000000000000000000000000000000000000001657696c6c20796f75207374696c6c206c6f7665206d6500000000000000000000', 'logIndex': 1, 'removed': False, 'topics': [HexBytes('0xcda4350c176dee701be26e34bb6ddef641e5f6847b5ff6ca83ccca7faa85ddaf')], 'transactionHash': HexBytes('0x549ab258b8301c887e1125a4b4671ec0242766a0f96bcf9d439aa2c34ee3b1c9'), 'transactionIndex': 1})], 'logsBloom': HexBytes('0x00000000000000000000000000000000000000000000000000000000000020000000000000000000000000000000000000000000000000000000000000000000000000000000000000000000000000000000000000000000000000000000000000000000000000000000000000000000000000000000002000000000000000000000000000004000000080000000000000000000000000000000000000000000000000010000000000000000000000000000000000000000000000000000000000000000000000000000000000000000000000000000000000000000000000000000000000000000000000000000000000000000000000800000000000000000'), 'status': 1, 'to': '0x0ea14c47be22fed7e7220876998be2249bf5a9e3', 'transactionHash': HexBytes('0x549ab258b8301c887e1125a4b4671ec0242766a0f96bcf9d439aa2c34ee3b1c9'), 'transactionIndex': 1})\n",
      "(AttributeDict({'args': AttributeDict({'_soapboxer': '0x042D6E3AC0018098d331093Ed6C4aE4C143CC568', '_opinion': 'Will you still love me'}), 'event': 'OpinionBroadcast', 'logIndex': 1, 'transactionIndex': 1, 'transactionHash': HexBytes('0x549ab258b8301c887e1125a4b4671ec0242766a0f96bcf9d439aa2c34ee3b1c9'), 'address': '0x0EA14C47Be22fEd7e7220876998BE2249Bf5a9e3', 'blockHash': HexBytes('0x7f67d490d312ec05c06fa8b9acefc2204834f1035226229d930fade8c53a1b77'), 'blockNumber': 5480534}),)\n",
      "Address 0x042D6E3AC0018098d331093Ed6C4aE4C143CC568 broadcasted the opinion: Will you still love me\n"
     ]
    }
   ],
   "source": [
    "#Transacting with a function\n",
    "import contract_abi\n",
    "import time\n",
    "from web3 import Web3, HTTPProvider\n",
    "\n",
    "contract_address     = '0x0ea14c47be22fed7e7220876998be2249bf5a9e3'\n",
    "wallet_private_key   = 'e3557bf7cf16ef32d5fb9040971b6342038e71a71c06b0f477af049e7bf21d72'\n",
    "wallet_address       = '0x042D6E3AC0018098d331093Ed6C4aE4C143CC568'\n",
    "\n",
    "w3 = Web3(HTTPProvider('https://ropsten.infura.io/v3/16fd0fe69c1441b4ba6abc7f50891fcc'))\n",
    "\n",
    "w3.eth.enable_unaudited_features()\n",
    "contract_address = w3.toChecksumAddress(contract_address)\n",
    "wallet_address = w3.toChecksumAddress(wallet_address)\n",
    "\n",
    "contract = w3.eth.contract(address = contract_address, abi = contract_abi.abi)\n",
    "\n",
    "\n",
    "def broadcast_an_opinion(covfefe):\n",
    "\n",
    "\n",
    "    nonce = w3.eth.getTransactionCount(wallet_address)\n",
    "\n",
    "    txn_dict = contract.functions.broadcastOpinion(covfefe).buildTransaction({\n",
    "        'chainId': 3,\n",
    "        'gas': 140000,\n",
    "        'gasPrice': w3.toWei('40', 'gwei'),\n",
    "        'nonce': nonce,\n",
    "    })\n",
    "\n",
    "    signed_txn = w3.eth.account.signTransaction(txn_dict, private_key=wallet_private_key)\n",
    "\n",
    "    result = w3.eth.sendRawTransaction(signed_txn.rawTransaction)\n",
    "\n",
    "    tx_receipt = w3.eth.getTransactionReceipt(result)\n",
    "\n",
    "    count = 0\n",
    "    while tx_receipt is None and (count < 30):\n",
    "\n",
    "        time.sleep(10)\n",
    "\n",
    "        tx_receipt = w3.eth.getTransactionReceipt(result)\n",
    "\n",
    "        print(tx_receipt)\n",
    "\n",
    "\n",
    "    if tx_receipt is None:\n",
    "        return {'status': 'failed', 'error': 'timeout'}\n",
    "\n",
    "    processed_receipt = contract.events.OpinionBroadcast().processReceipt(tx_receipt)\n",
    "\n",
    "    print(processed_receipt)\n",
    "    \n",
    "    output = \"Address {} broadcasted the opinion: {}\"\\\n",
    "        .format(processed_receipt[0].args._soapboxer, processed_receipt[0].args._opinion)\n",
    "    print(output)\n",
    "\n",
    "    return {'status': 'added', 'processed_receipt': processed_receipt}\n",
    "\n",
    "if __name__ == \"__main__\":\n",
    "\n",
    "    broadcast_an_opinion('Will you still love me')\n"
   ]
  },
  {
   "cell_type": "code",
   "execution_count": null,
   "metadata": {},
   "outputs": [],
   "source": []
  }
 ],
 "metadata": {
  "kernelspec": {
   "display_name": "Python 3",
   "language": "python",
   "name": "python3"
  },
  "language_info": {
   "codemirror_mode": {
    "name": "ipython",
    "version": 3
   },
   "file_extension": ".py",
   "mimetype": "text/x-python",
   "name": "python",
   "nbconvert_exporter": "python",
   "pygments_lexer": "ipython3",
   "version": "3.6.5"
  }
 },
 "nbformat": 4,
 "nbformat_minor": 2
}
